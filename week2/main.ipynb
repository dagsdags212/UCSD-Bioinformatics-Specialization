{
 "cells": [
  {
   "cell_type": "code",
   "execution_count": 1,
   "metadata": {},
   "outputs": [],
   "source": [
    "from pathlib import Path\n",
    "from deBruijn import *\n",
    "from read_pairs import generate_read_pair_composition, generate_string_from_gapped_genome, string_spelled_by_gapped_patterns"
   ]
  },
  {
   "cell_type": "code",
   "execution_count": 2,
   "metadata": {},
   "outputs": [
    {
     "name": "stdout",
     "output_type": "stream",
     "text": [
      "(AAT|CAT) (ATG|ATG) (ATG|ATG) (CAT|GAT) (CCA|GGA) (GCC|GGG) (GGG|GTT) (TAA|CCA) (TGC|TGG) (TGG|TGT)\n"
     ]
    }
   ],
   "source": [
    "text = 'TAATGCCATGGGATGTT'\n",
    "result = generate_read_pair_composition(text=text, k=3, d=2)\n",
    "print(*result)"
   ]
  },
  {
   "cell_type": "code",
   "execution_count": 3,
   "metadata": {},
   "outputs": [
    {
     "data": {
      "text/plain": [
       "'AGCAGCTGCTGCA'"
      ]
     },
     "execution_count": 3,
     "metadata": {},
     "output_type": "execute_result"
    }
   ],
   "source": [
    "kdmers = [\n",
    "    'AG-AG',\n",
    "    'GC-GC',\n",
    "    'CA-CT',\n",
    "    'AG-TG',\n",
    "    'GC-GC',\n",
    "    'CT-CT',\n",
    "    'TG-TG',\n",
    "    'GC-GC',\n",
    "    'CT-CA',\n",
    "]\n",
    "\n",
    "generate_string_from_gapped_genome(kdmers)"
   ]
  },
  {
   "cell_type": "code",
   "execution_count": 4,
   "metadata": {},
   "outputs": [],
   "source": [
    "def extract_paired_reads(file_path: Path) -> str:\n",
    "    with open(file_path, 'r') as fh:\n",
    "        k, d = fh.readline().strip().split(' ')\n",
    "        k, d = int(k), int(d)\n",
    "        kdmers = fh.readline().strip().split(' ')\n",
    "    fh.close()\n",
    "    return kdmers, k, d"
   ]
  },
  {
   "cell_type": "code",
   "execution_count": 5,
   "metadata": {},
   "outputs": [
    {
     "name": "stdout",
     "output_type": "stream",
     "text": [
      "There is no string spelled by the gapped patterns\n"
     ]
    },
    {
     "data": {
      "text/plain": [
       "False"
      ]
     },
     "execution_count": 5,
     "metadata": {},
     "output_type": "execute_result"
    }
   ],
   "source": [
    "path = Path('/home/dagsdags/home/courses/ucsd-bioinformatics-specialization/course-2/datasets/paired_reads/dataset_204_16.txt')\n",
    "kdmers, k, d = extract_paired_reads(path)\n",
    "\n",
    "result = string_spelled_by_gapped_patterns(kdmers=kdmers, k=k, d=d, sep='|')\n",
    "result"
   ]
  },
  {
   "attachments": {},
   "cell_type": "markdown",
   "metadata": {},
   "source": [
    "## Quiz 2\n",
    "1. Give a linear string having the following 4-mer composition.\n",
    "    - CAAATGCATCATACGCTCACCCAG\n",
    "2. Below is the adjacency list of a graph. What is the minimum number of edges we mustadd to this graph in order to mke each node balanced? (You may duplicate edges connecting the same nodes, but do no add new nodes)\n",
    "    - 2\n",
    "3. There is a single (linear) string with the following (3,1)-mer composition. Find it.\n",
    "    - CACCGATACTGATTCTGAAGCTT\n",
    "4. True or False: every Eulerian path in the de Bruijn graph constructed from a k-mer composition must spell out a solution to the String Reconstruction Problem.\n",
    "    - True\n",
    "5. True or False: read breaking cannot transform reads with imperfect coverage into reads with perfect coverage.\n",
    "    - False"
   ]
  },
  {
   "cell_type": "code",
   "execution_count": 7,
   "metadata": {},
   "outputs": [
    {
     "data": {
      "text/plain": [
       "'CAAATGCATCATACGCTCACCCAG'"
      ]
     },
     "execution_count": 7,
     "metadata": {},
     "output_type": "execute_result"
    }
   ],
   "source": [
    "# Question 1\n",
    "from deBruijn import *\n",
    "reads = [\n",
    "    'AAAT',\n",
    "    'AATG',\n",
    "    'ACCC',\n",
    "    'ACGC',\n",
    "    'ATAC',\n",
    "    'ATCA',\n",
    "    'ATGC',\n",
    "    'CAAA',\n",
    "    'CACC',\n",
    "    'CATA',\n",
    "    'CATC',\n",
    "    'CCAG',\n",
    "    'CCCA',\n",
    "    'CGCT',\n",
    "    'CTCA',\n",
    "    'GCAT',\n",
    "    'GCTC',\n",
    "    'TACG',\n",
    "    'TCAC',\n",
    "    'TCAT',\n",
    "    'TGCA',\n",
    "    ]\n",
    "\n",
    "dbg = DeBruijinGraph(reads, 4)\n",
    "path = dbg.eulerian_path()\n",
    "genome = path_to_genome(path)\n",
    "genome\n"
   ]
  }
 ],
 "metadata": {
  "kernelspec": {
   "display_name": "bioinfo",
   "language": "python",
   "name": "python3"
  },
  "language_info": {
   "codemirror_mode": {
    "name": "ipython",
    "version": 3
   },
   "file_extension": ".py",
   "mimetype": "text/x-python",
   "name": "python",
   "nbconvert_exporter": "python",
   "pygments_lexer": "ipython3",
   "version": "3.10.11"
  },
  "orig_nbformat": 4
 },
 "nbformat": 4,
 "nbformat_minor": 2
}

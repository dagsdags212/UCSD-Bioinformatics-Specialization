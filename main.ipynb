{
 "cells": [
  {
   "cell_type": "code",
   "execution_count": 42,
   "metadata": {},
   "outputs": [],
   "source": [
    "from pathlib import Path\n",
    "from week1 import *\n",
    "import graphs as g"
   ]
  },
  {
   "cell_type": "code",
   "execution_count": null,
   "metadata": {},
   "outputs": [],
   "source": [
    "n1 = Node('AGGT')\n",
    "n2 = Node('GGTC')\n",
    "e1 = DirectedEdge(n1, n2)\n",
    "\n",
    "e1"
   ]
  },
  {
   "cell_type": "code",
   "execution_count": null,
   "metadata": {},
   "outputs": [],
   "source": [
    "seq = ['GAGG', 'CAGG', 'GGGG', 'GGGA', 'CAGG', 'AGGG', 'GGAG']\n",
    "g = DBG(seq, 4)\n",
    "g"
   ]
  },
  {
   "cell_type": "code",
   "execution_count": null,
   "metadata": {},
   "outputs": [],
   "source": [
    "def generate_dbg(filename):\n",
    "    p = Path.cwd() / 'datasets' / filename\n",
    "\n",
    "    with p.open() as f:\n",
    "        data = f.readline()\n",
    "    f.close()\n",
    "\n",
    "    seq = data.split(' ')\n",
    "    k = 20\n",
    "    return DBG(seq, k)"
   ]
  },
  {
   "cell_type": "code",
   "execution_count": null,
   "metadata": {},
   "outputs": [],
   "source": [
    "r1 = generate_dbg('input_1.txt')\n",
    "print(r1)"
   ]
  },
  {
   "cell_type": "code",
   "execution_count": null,
   "metadata": {},
   "outputs": [],
   "source": [
    "adjList = {\n",
    "    0: [3],\n",
    "    1: [0],\n",
    "    2: [1,6],\n",
    "    3: [2],\n",
    "    4: [2],\n",
    "    5: [4],\n",
    "    6: [5, 8],\n",
    "    7: [9],\n",
    "    8: [7],\n",
    "    9: [6],\n",
    "}\n",
    "\n",
    "graph = DirectedGraph(adjList)"
   ]
  },
  {
   "cell_type": "code",
   "execution_count": null,
   "metadata": {},
   "outputs": [],
   "source": [
    "path = graph.find_path()\n",
    "path"
   ]
  },
  {
   "cell_type": "code",
   "execution_count": null,
   "metadata": {},
   "outputs": [],
   "source": [
    "full_path = []\n",
    "for n in path:\n",
    "    print(n.edges[0].dest)"
   ]
  },
  {
   "cell_type": "code",
   "execution_count": null,
   "metadata": {},
   "outputs": [],
   "source": [
    "keys = [0, 1, 2, 3, 6, 7, 8, 9]\n",
    "values = [[2], [3], [1], [0,4], [3,7], [8], [9], [6]]\n",
    "adjList = {k: v for k, v in zip(keys, values)}\n",
    "\n",
    "adjList"
   ]
  },
  {
   "cell_type": "code",
   "execution_count": 31,
   "metadata": {},
   "outputs": [
    {
     "data": {
      "text/plain": [
       "(3, ['ACG', 'CGT', 'GTG', 'TGT', 'GTA', 'TAT', 'ATA'])"
      ]
     },
     "execution_count": 31,
     "metadata": {},
     "output_type": "execute_result"
    }
   ],
   "source": [
    "num = 1\n",
    "folder = Path('datasets/string_reconstruction')\n",
    "filename = f\"input_{num}.txt\"\n",
    "path = Path().cwd() / folder / filename\n",
    "\n",
    "with open(path, 'r') as fh:\n",
    "    k = int(fh.readline().strip())\n",
    "    kmers = fh.readline().strip().split()\n",
    "fh.close()\n",
    "\n",
    "k, kmers"
   ]
  },
  {
   "cell_type": "code",
   "execution_count": 43,
   "metadata": {},
   "outputs": [
    {
     "ename": "UnboundLocalError",
     "evalue": "local variable 'end' referenced before assignment",
     "output_type": "error",
     "traceback": [
      "\u001b[0;31m---------------------------------------------------------------------------\u001b[0m",
      "\u001b[0;31mUnboundLocalError\u001b[0m                         Traceback (most recent call last)",
      "Cell \u001b[0;32mIn[43], line 2\u001b[0m\n\u001b[1;32m      1\u001b[0m graph \u001b[39m=\u001b[39m g\u001b[39m.\u001b[39mDeBruijin(kmers, k)\n\u001b[0;32m----> 2\u001b[0m graph\u001b[39m.\u001b[39;49mfind_path()\n",
      "File \u001b[0;32m~/home/courses/ucsd-bioinformatics-specialization/course-2/graphs.py:217\u001b[0m, in \u001b[0;36mDeBruijin.find_path\u001b[0;34m(self)\u001b[0m\n\u001b[1;32m    215\u001b[0m         end \u001b[39m=\u001b[39m Node(k)\n\u001b[1;32m    216\u001b[0m \u001b[39m# initialize stack wit the starting node, and path with the ending node\u001b[39;00m\n\u001b[0;32m--> 217\u001b[0m path \u001b[39m=\u001b[39m [end]\n\u001b[1;32m    218\u001b[0m stack \u001b[39m=\u001b[39m [start]\n\u001b[1;32m    219\u001b[0m graph \u001b[39m=\u001b[39m \u001b[39mself\u001b[39m\u001b[39m.\u001b[39mg\u001b[39m.\u001b[39mcopy()\n",
      "\u001b[0;31mUnboundLocalError\u001b[0m: local variable 'end' referenced before assignment"
     ]
    }
   ],
   "source": [
    "graph = g.DeBruijin(kmers, k)\n",
    "graph.find_path()"
   ]
  },
  {
   "cell_type": "code",
   "execution_count": null,
   "metadata": {},
   "outputs": [],
   "source": []
  }
 ],
 "metadata": {
  "kernelspec": {
   "display_name": "bioinfo",
   "language": "python",
   "name": "python3"
  },
  "language_info": {
   "codemirror_mode": {
    "name": "ipython",
    "version": 3
   },
   "file_extension": ".py",
   "mimetype": "text/x-python",
   "name": "python",
   "nbconvert_exporter": "python",
   "pygments_lexer": "ipython3",
   "version": "3.10.11"
  },
  "orig_nbformat": 4
 },
 "nbformat": 4,
 "nbformat_minor": 2
}

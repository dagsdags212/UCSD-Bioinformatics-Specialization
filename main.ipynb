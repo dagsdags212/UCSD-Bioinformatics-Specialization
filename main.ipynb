{
 "cells": [
  {
   "cell_type": "code",
   "execution_count": 7,
   "metadata": {},
   "outputs": [],
   "source": [
    "from pathlib import Path\n",
    "from week1 import *\n",
    "from graphs import *"
   ]
  },
  {
   "cell_type": "code",
   "execution_count": null,
   "metadata": {},
   "outputs": [],
   "source": [
    "n1 = Node('AGGT')\n",
    "n2 = Node('GGTC')\n",
    "e1 = DirectedEdge(n1, n2)\n",
    "\n",
    "e1"
   ]
  },
  {
   "cell_type": "code",
   "execution_count": null,
   "metadata": {},
   "outputs": [],
   "source": [
    "seq = ['GAGG', 'CAGG', 'GGGG', 'GGGA', 'CAGG', 'AGGG', 'GGAG']\n",
    "g = DBG(seq, 4)\n",
    "g"
   ]
  },
  {
   "cell_type": "code",
   "execution_count": null,
   "metadata": {},
   "outputs": [],
   "source": [
    "def generate_dbg(filename):\n",
    "    p = Path.cwd() / 'datasets' / filename\n",
    "\n",
    "    with p.open() as f:\n",
    "        data = f.readline()\n",
    "    f.close()\n",
    "\n",
    "    seq = data.split(' ')\n",
    "    k = 20\n",
    "    return DBG(seq, k)"
   ]
  },
  {
   "cell_type": "code",
   "execution_count": null,
   "metadata": {},
   "outputs": [],
   "source": [
    "r1 = generate_dbg('input_1.txt')\n",
    "print(r1)"
   ]
  },
  {
   "cell_type": "code",
   "execution_count": null,
   "metadata": {},
   "outputs": [],
   "source": [
    "adjList = {\n",
    "    0: [3],\n",
    "    1: [0],\n",
    "    2: [1,6],\n",
    "    3: [2],\n",
    "    4: [2],\n",
    "    5: [4],\n",
    "    6: [5, 8],\n",
    "    7: [9],\n",
    "    8: [7],\n",
    "    9: [6],\n",
    "}\n",
    "\n",
    "graph = DirectedGraph(adjList)"
   ]
  },
  {
   "cell_type": "code",
   "execution_count": null,
   "metadata": {},
   "outputs": [],
   "source": [
    "path = graph.find_path()\n",
    "path"
   ]
  },
  {
   "cell_type": "code",
   "execution_count": null,
   "metadata": {},
   "outputs": [],
   "source": [
    "full_path = []\n",
    "for n in path:\n",
    "    print(n.edges[0].dest)"
   ]
  },
  {
   "cell_type": "code",
   "execution_count": null,
   "metadata": {},
   "outputs": [],
   "source": [
    "keys = [0, 1, 2, 3, 6, 7, 8, 9]\n",
    "values = [[2], [3], [1], [0,4], [3,7], [8], [9], [6]]\n",
    "adjList = {k: v for k, v in zip(keys, values)}\n",
    "\n",
    "adjList"
   ]
  },
  {
   "cell_type": "code",
   "execution_count": 8,
   "metadata": {},
   "outputs": [
    {
     "data": {
      "text/plain": [
       "(3, ['AAC', 'AAC', 'ACG', 'ACT', 'CGA', 'GAA'])"
      ]
     },
     "execution_count": 8,
     "metadata": {},
     "output_type": "execute_result"
    }
   ],
   "source": [
    "num = 3\n",
    "folder = Path('datasets/string_reconstruction')\n",
    "filename = f\"input_{num}.txt\"\n",
    "path = Path().cwd() / folder / filename\n",
    "\n",
    "with open(path, 'r') as fh:\n",
    "    k = int(fh.readline().strip())\n",
    "    kmers = fh.readline().strip().split()\n",
    "fh.close()\n",
    "\n",
    "k, kmers"
   ]
  },
  {
   "cell_type": "code",
   "execution_count": 9,
   "metadata": {},
   "outputs": [],
   "source": [
    "graph = DeBruijin(kmers, k)"
   ]
  },
  {
   "cell_type": "code",
   "execution_count": 10,
   "metadata": {},
   "outputs": [
    {
     "name": "stdout",
     "output_type": "stream",
     "text": [
      "0 2\n",
      "0 0\n",
      "1 1\n",
      "1 0\n",
      "1 1\n",
      "1 0\n"
     ]
    }
   ],
   "source": [
    "for n in graph.nodes:\n",
    "    print(n.incoming, n.outgoing)"
   ]
  },
  {
   "cell_type": "code",
   "execution_count": 5,
   "metadata": {},
   "outputs": [
    {
     "data": {
      "text/plain": [
       "{AAC: [ACG, ACT], ACG: [CGA], ACT: [], CGA: [GAA]}"
      ]
     },
     "execution_count": 5,
     "metadata": {},
     "output_type": "execute_result"
    }
   ],
   "source": [
    "graph.g"
   ]
  },
  {
   "cell_type": "code",
   "execution_count": null,
   "metadata": {},
   "outputs": [],
   "source": []
  },
  {
   "cell_type": "code",
   "execution_count": null,
   "metadata": {},
   "outputs": [],
   "source": []
  }
 ],
 "metadata": {
  "kernelspec": {
   "display_name": "bioinfo",
   "language": "python",
   "name": "python3"
  },
  "language_info": {
   "codemirror_mode": {
    "name": "ipython",
    "version": 3
   },
   "file_extension": ".py",
   "mimetype": "text/x-python",
   "name": "python",
   "nbconvert_exporter": "python",
   "pygments_lexer": "ipython3",
   "version": "3.10.11"
  },
  "orig_nbformat": 4
 },
 "nbformat": 4,
 "nbformat_minor": 2
}
